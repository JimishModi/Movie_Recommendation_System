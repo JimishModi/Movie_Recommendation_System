{
 "cells": [
  {
   "cell_type": "code",
   "execution_count": 18,
   "id": "724ecc20",
   "metadata": {},
   "outputs": [],
   "source": [
    "import pandas as pd"
   ]
  },
  {
   "cell_type": "code",
   "execution_count": 19,
   "id": "2daefb2f",
   "metadata": {},
   "outputs": [],
   "source": [
    "# Load data\n",
    "movies = pd.read_csv('movies_metadata.csv', low_memory=False)\n",
    "keywords = pd.read_csv('keywords.csv')\n",
    "links = pd.read_csv('links.csv')\n",
    "credits = pd.read_csv('credits.csv')"
   ]
  },
  {
   "cell_type": "code",
   "execution_count": 20,
   "id": "23eb8820",
   "metadata": {},
   "outputs": [],
   "source": [
    "# Standardize key columns - but don't strip leading zeros as this might cause mismatches\n",
    "for df, col in [(movies, 'id'), (keywords, 'id'), (credits, 'id'), (links, 'tmdbId')]:\n",
    "    df[col] = df[col].astype(str).str.strip()"
   ]
  },
  {
   "cell_type": "code",
   "execution_count": 21,
   "id": "4162a34a",
   "metadata": {},
   "outputs": [],
   "source": [
    "# Remove duplicates\n",
    "movies = movies.drop_duplicates(subset=['id'])\n",
    "keywords = keywords.drop_duplicates(subset=['id'])\n",
    "credits = credits.drop_duplicates(subset=['id'])\n",
    "links = links.drop_duplicates(subset=['tmdbId'])"
   ]
  },
  {
   "cell_type": "code",
   "execution_count": 22,
   "id": "71e4ac0b",
   "metadata": {},
   "outputs": [],
   "source": [
    "# Start with movies as base to preserve all 46628 rows\n",
    "df = movies.copy()"
   ]
  },
  {
   "cell_type": "code",
   "execution_count": 23,
   "id": "68c7c0f9",
   "metadata": {},
   "outputs": [],
   "source": [
    "# Merge with left joins to keep all movies\n",
    "df = pd.merge(df, keywords, on='id', how='left')\n",
    "df = pd.merge(df, credits, on='id', how='left')\n",
    "df = pd.merge(df, links, left_on='id', right_on='tmdbId', how='left')"
   ]
  },
  {
   "cell_type": "code",
   "execution_count": 24,
   "id": "8cadf7b2",
   "metadata": {},
   "outputs": [],
   "source": [
    "# Drop the unwanted columns: 'tmdbId', 'movieId', 'imdbId'\n",
    "columns_to_drop = ['tmdbId', 'movieId', 'imdbId']\n",
    "for col in columns_to_drop:\n",
    "    if col in df.columns:\n",
    "        df = df.drop(columns=[col])"
   ]
  },
  {
   "cell_type": "code",
   "execution_count": 25,
   "id": "d89da805",
   "metadata": {},
   "outputs": [
    {
     "name": "stdout",
     "output_type": "stream",
     "text": [
      "(45436, 27)\n",
      "Index(['adult', 'belongs_to_collection', 'budget', 'genres', 'homepage', 'id',\n",
      "       'imdb_id', 'original_language', 'original_title', 'overview',\n",
      "       'popularity', 'poster_path', 'production_companies',\n",
      "       'production_countries', 'release_date', 'revenue', 'runtime',\n",
      "       'spoken_languages', 'status', 'tagline', 'title', 'video',\n",
      "       'vote_average', 'vote_count', 'keywords', 'cast', 'crew'],\n",
      "      dtype='object')\n"
     ]
    }
   ],
   "source": [
    "# Save and check shape\n",
    "df.to_csv('master_dataset.csv', index=False)\n",
    "print(df.shape)\n",
    "print(df.columns)"
   ]
  }
 ],
 "metadata": {
  "kernelspec": {
   "display_name": "Python 3",
   "language": "python",
   "name": "python3"
  },
  "language_info": {
   "codemirror_mode": {
    "name": "ipython",
    "version": 3
   },
   "file_extension": ".py",
   "mimetype": "text/x-python",
   "name": "python",
   "nbconvert_exporter": "python",
   "pygments_lexer": "ipython3",
   "version": "3.13.4"
  }
 },
 "nbformat": 4,
 "nbformat_minor": 5
}
